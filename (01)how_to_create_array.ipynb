{
  "cells": [
    {
      "cell_type": "markdown",
      "metadata": {
        "id": "view-in-github",
        "colab_type": "text"
      },
      "source": [
        "<a href=\"https://colab.research.google.com/github/Uzair-DeVops/newrepo/blob/main/(01)how_to_create_array.ipynb\" target=\"_parent\"><img src=\"https://colab.research.google.com/assets/colab-badge.svg\" alt=\"Open In Colab\"/></a>"
      ]
    },
    {
      "cell_type": "markdown",
      "metadata": {
        "id": "da89YCNQ6XRx"
      },
      "source": [
        "<h1 align=\"center\">How to create arrays\n",
        "</h1>\n"
      ]
    },
    {
      "cell_type": "markdown",
      "metadata": {
        "id": "NjOMX4xJ6XRz"
      },
      "source": [
        "first import numpy"
      ]
    },
    {
      "cell_type": "code",
      "execution_count": null,
      "metadata": {
        "id": "sBprcFYj6XR0"
      },
      "outputs": [],
      "source": [
        "import numpy as np\n"
      ]
    },
    {
      "cell_type": "markdown",
      "metadata": {
        "id": "VtWk0Deo6XR1"
      },
      "source": [
        "<h2>Ways to create arrays</h2>"
      ]
    },
    {
      "cell_type": "markdown",
      "metadata": {
        "id": "K2RqdYfe6XR1"
      },
      "source": [
        "<h3 >1 .Using python list<h3>"
      ]
    },
    {
      "cell_type": "code",
      "execution_count": null,
      "metadata": {
        "id": "vF0rBK0A6XR1",
        "outputId": "fdbf84c8-4c2f-4b58-87ae-da6f631274a4"
      },
      "outputs": [
        {
          "data": {
            "text/plain": [
              "array([1, 2, 3, 4, 5, 6, 7, 8])"
            ]
          },
          "execution_count": 4,
          "metadata": {},
          "output_type": "execute_result"
        }
      ],
      "source": [
        "list1 = [1,2,3,4,5,6,7,8,]\n",
        "arr = np.array(list1)\n",
        "arr"
      ]
    },
    {
      "cell_type": "markdown",
      "metadata": {
        "id": "7exhsOiS6XR2"
      },
      "source": [
        "2d list"
      ]
    },
    {
      "cell_type": "code",
      "execution_count": null,
      "metadata": {
        "id": "Rpf2uCH16XR3",
        "outputId": "4d8c412c-bc3f-435b-aec0-3c5b80794cb4"
      },
      "outputs": [
        {
          "data": {
            "text/plain": [
              "array([[1, 2, 3],\n",
              "       [4, 5, 6],\n",
              "       [7, 8, 9]])"
            ]
          },
          "execution_count": 6,
          "metadata": {},
          "output_type": "execute_result"
        }
      ],
      "source": [
        "list2 = [[1,2,3],[4,5,6],[7,8,9]]\n",
        "arr = np.array(list2)\n",
        "arr"
      ]
    },
    {
      "cell_type": "markdown",
      "metadata": {
        "id": "hOMKckX56XR4"
      },
      "source": [
        "<h3>2 .Using arange<h3>"
      ]
    },
    {
      "cell_type": "code",
      "execution_count": null,
      "metadata": {
        "id": "G-ZfgB5F6XR4",
        "outputId": "5e4768ad-3827-4410-f411-914c3f7ce9a8"
      },
      "outputs": [
        {
          "data": {
            "text/plain": [
              "array([1, 2, 3, 4, 5, 6, 7, 8, 9])"
            ]
          },
          "execution_count": 8,
          "metadata": {},
          "output_type": "execute_result"
        }
      ],
      "source": [
        "arr = np.arange(1,10)\n",
        "arr"
      ]
    },
    {
      "cell_type": "code",
      "execution_count": null,
      "metadata": {
        "id": "McnyLbw-6XR4",
        "outputId": "a2b8782c-b40e-48f0-d6bd-0d5513c6ff16"
      },
      "outputs": [
        {
          "data": {
            "text/plain": [
              "array([1, 3, 5, 7, 9])"
            ]
          },
          "execution_count": 9,
          "metadata": {},
          "output_type": "execute_result"
        }
      ],
      "source": [
        "arr = np.arange(1,11 , 2)\n",
        "arr\n"
      ]
    },
    {
      "cell_type": "markdown",
      "metadata": {
        "id": "rvGbmAi76XR5"
      },
      "source": [
        "<h3>3 .Specific types of array<h3>"
      ]
    },
    {
      "cell_type": "markdown",
      "metadata": {
        "id": "IoQgj-lU6XR5"
      },
      "source": [
        "Zero arrays"
      ]
    },
    {
      "cell_type": "markdown",
      "metadata": {
        "id": "ScQjfFCP6XR5"
      },
      "source": []
    },
    {
      "cell_type": "code",
      "execution_count": null,
      "metadata": {
        "id": "VkZWFbvI6XR5",
        "outputId": "b98f8fe5-b869-4f3b-84a2-0d20bc348f15"
      },
      "outputs": [
        {
          "data": {
            "text/plain": [
              "array([0., 0., 0., 0., 0.])"
            ]
          },
          "execution_count": 10,
          "metadata": {},
          "output_type": "execute_result"
        }
      ],
      "source": [
        "arr = np.zeros(5)\n",
        "arr\n"
      ]
    },
    {
      "cell_type": "code",
      "execution_count": null,
      "metadata": {
        "id": "WO_t4w0P6XR5",
        "outputId": "0eb0772c-720b-4b62-8ced-62087ccf4358"
      },
      "outputs": [
        {
          "data": {
            "text/plain": [
              "array([[0., 0., 0., 0., 0.],\n",
              "       [0., 0., 0., 0., 0.],\n",
              "       [0., 0., 0., 0., 0.],\n",
              "       [0., 0., 0., 0., 0.],\n",
              "       [0., 0., 0., 0., 0.]])"
            ]
          },
          "execution_count": 16,
          "metadata": {},
          "output_type": "execute_result"
        }
      ],
      "source": [
        "arr = np.zeros((5,5))\n",
        "arr\n"
      ]
    },
    {
      "cell_type": "code",
      "execution_count": null,
      "metadata": {
        "id": "Fbf-L9jk6XR5",
        "outputId": "4e65e692-b919-43e4-af9c-89970368b8f9"
      },
      "outputs": [
        {
          "name": "stdout",
          "output_type": "stream",
          "text": [
            "[0 0 0 0 0]\n"
          ]
        }
      ],
      "source": [
        "int_array = np.zeros(5, dtype=int)\n",
        "print(int_array)"
      ]
    },
    {
      "cell_type": "markdown",
      "metadata": {
        "id": "DjKe-TII6XR6"
      },
      "source": [
        "Ones array"
      ]
    },
    {
      "cell_type": "code",
      "execution_count": null,
      "metadata": {
        "id": "PafQug1K6XR6",
        "outputId": "e4674ca5-5ead-4dfd-fa44-feaa0de4b54b"
      },
      "outputs": [
        {
          "data": {
            "text/plain": [
              "array([1., 1., 1., 1., 1.])"
            ]
          },
          "execution_count": 13,
          "metadata": {},
          "output_type": "execute_result"
        }
      ],
      "source": [
        "arr =  np.ones(5)\n",
        "arr"
      ]
    },
    {
      "cell_type": "code",
      "execution_count": null,
      "metadata": {
        "id": "D9Vdr-F-6XR6",
        "outputId": "81b4aaec-740d-4257-ad24-8d98e8a17e55"
      },
      "outputs": [
        {
          "data": {
            "text/plain": [
              "array([[1., 1., 1., 1., 1.],\n",
              "       [1., 1., 1., 1., 1.],\n",
              "       [1., 1., 1., 1., 1.],\n",
              "       [1., 1., 1., 1., 1.],\n",
              "       [1., 1., 1., 1., 1.]])"
            ]
          },
          "execution_count": 17,
          "metadata": {},
          "output_type": "execute_result"
        }
      ],
      "source": [
        "arr =  np.ones((5,5))\n",
        "arr"
      ]
    },
    {
      "cell_type": "code",
      "execution_count": null,
      "metadata": {
        "id": "1_EY6uLl6XR6",
        "outputId": "bcf73305-ad33-4587-e414-a0f1977034d6"
      },
      "outputs": [
        {
          "name": "stdout",
          "output_type": "stream",
          "text": [
            "[1 1 1 1 1]\n"
          ]
        }
      ],
      "source": [
        "int_array = np.ones(5, dtype=int)\n",
        "print(int_array)"
      ]
    },
    {
      "cell_type": "markdown",
      "metadata": {
        "id": "TjcFalYR6XR6"
      },
      "source": [
        "Identity matrix"
      ]
    },
    {
      "cell_type": "code",
      "execution_count": null,
      "metadata": {
        "id": "gMx67Ooi6XR6",
        "outputId": "d2450d75-e830-40e7-cad9-3ea3d0776cd2"
      },
      "outputs": [
        {
          "data": {
            "text/plain": [
              "array([[1., 0., 0.],\n",
              "       [0., 1., 0.],\n",
              "       [0., 0., 1.]])"
            ]
          },
          "execution_count": 23,
          "metadata": {},
          "output_type": "execute_result"
        }
      ],
      "source": [
        "arr = np.eye(3)\n",
        "arr"
      ]
    },
    {
      "cell_type": "markdown",
      "metadata": {
        "id": "nd4rlYMI6XR7"
      },
      "source": [
        "<h3>4 .Using linspace<h3>\n",
        "<p>linspace is a function in the NumPy library that generates an array of evenly spaced numbers over a specified interval</p>"
      ]
    },
    {
      "cell_type": "markdown",
      "metadata": {
        "id": "GBaaYMj06XR7"
      },
      "source": [
        "\n",
        "<h3>Syntax :</h3> numpy.linspace(start, stop, num=50)\n"
      ]
    },
    {
      "cell_type": "code",
      "execution_count": null,
      "metadata": {
        "id": "A-Pcehr36XR7",
        "outputId": "ce95e109-b685-4ee0-c917-1e4823448e9d"
      },
      "outputs": [
        {
          "data": {
            "text/plain": [
              "array([1.        , 1.44444444, 1.88888889, 2.33333333, 2.77777778,\n",
              "       3.22222222, 3.66666667, 4.11111111, 4.55555556, 5.        ])"
            ]
          },
          "execution_count": 22,
          "metadata": {},
          "output_type": "execute_result"
        }
      ],
      "source": [
        "arr = np.linspace(1,5,10)\n",
        "arr"
      ]
    },
    {
      "cell_type": "markdown",
      "metadata": {
        "id": "bBCB-bgf6XR7"
      },
      "source": [
        "<h3>5 .Random array<h3>"
      ]
    },
    {
      "cell_type": "code",
      "execution_count": null,
      "metadata": {
        "id": "vpFhRH5W6XR7",
        "outputId": "e5cc2de0-4971-4762-9ac4-dbdedfda0ec0"
      },
      "outputs": [
        {
          "data": {
            "text/plain": [
              "array([0.07424235, 0.15846081, 0.26082255, 0.6283872 , 0.8874719 ])"
            ]
          },
          "execution_count": 25,
          "metadata": {},
          "output_type": "execute_result"
        }
      ],
      "source": [
        "# random number from 0 to 1\n",
        "arr = np.random.rand(5)\n",
        "arr"
      ]
    },
    {
      "cell_type": "code",
      "execution_count": null,
      "metadata": {
        "id": "meXvj5c16XR7",
        "outputId": "2bb519f2-2761-4b9a-9308-68eb3b672b20"
      },
      "outputs": [
        {
          "data": {
            "text/plain": [
              "array([[0.12161186, 0.67355355, 0.86608722, 0.99759212, 0.29331172],\n",
              "       [0.42664075, 0.91805592, 0.6578502 , 0.02048761, 0.43611701],\n",
              "       [0.13917511, 0.01195989, 0.71470912, 0.92531459, 0.72951646],\n",
              "       [0.40904239, 0.2350791 , 0.92462755, 0.41871309, 0.45244856],\n",
              "       [0.76690989, 0.07178081, 0.87474248, 0.72092878, 0.62065076]])"
            ]
          },
          "execution_count": 27,
          "metadata": {},
          "output_type": "execute_result"
        }
      ],
      "source": [
        "# if you give two values then it will be consider as row and columns\n",
        "arr = np.random.rand(5,5)\n",
        "arr"
      ]
    },
    {
      "cell_type": "code",
      "execution_count": null,
      "metadata": {
        "id": "IcJD2px16XR7",
        "outputId": "e38d802b-ec73-4fda-b05c-ee35bc0414a2"
      },
      "outputs": [
        {
          "data": {
            "text/plain": [
              "array([ 4, 15, 33, 46, 31,  1,  5, 42, 43, 18], dtype=int32)"
            ]
          },
          "execution_count": 7,
          "metadata": {},
          "output_type": "execute_result"
        }
      ],
      "source": [
        "# randint function is used to generate random number from the range of numbers the first parameter is starting range of the\n",
        "# number and the second parameter is ending range of the number and the third parameter is how many numbers you want to\n",
        "# generate\n",
        "\n",
        "arr = np.random.randint(1,50,10)\n",
        "arr"
      ]
    },
    {
      "cell_type": "code",
      "execution_count": null,
      "metadata": {
        "id": "uoTBGf8q6XR8",
        "outputId": "f6cfe03b-b663-4257-e3ff-1ad605bf1845"
      },
      "outputs": [
        {
          "data": {
            "text/plain": [
              "array([ 0.77660024, -0.93074211,  0.3147201 ,  0.38023664,  0.67056436])"
            ]
          },
          "execution_count": 8,
          "metadata": {},
          "output_type": "execute_result"
        }
      ],
      "source": [
        "# generate random numbers closest to the zero and can be negative numbers a\n",
        "arr =  np.random.randn(5)\n",
        "arr"
      ]
    },
    {
      "cell_type": "markdown",
      "metadata": {
        "id": "XNtrzjTw6XR8"
      },
      "source": []
    },
    {
      "cell_type": "markdown",
      "metadata": {
        "id": "a6MKyuqQ6XR8"
      },
      "source": [
        "<h3>6 .Structured array<h3>"
      ]
    },
    {
      "cell_type": "code",
      "execution_count": null,
      "metadata": {
        "id": "VW-pNLcI6XR8",
        "outputId": "8d951431-bec4-4475-8fc3-f79662f5841d"
      },
      "outputs": [
        {
          "name": "stdout",
          "output_type": "stream",
          "text": [
            "[(1, 'uzair', 20) (2, 'rafay', 22) (3, 'aqib', 23)]\n"
          ]
        }
      ],
      "source": [
        "arr= np.array([(1,\"uzair\",20),(2,\"rafay\",22),(3,\"aqib\",23)] , dtype=[(\"id\" ,int),(\"name\" ,\"U10\"),(\"age\" ,int)])\n",
        "print(arr)"
      ]
    },
    {
      "cell_type": "code",
      "execution_count": null,
      "metadata": {
        "id": "BG5nmLIF6XR8",
        "outputId": "8b9b3840-44ae-4abe-812a-2c869a80e436"
      },
      "outputs": [
        {
          "data": {
            "text/plain": [
              "array(['uzair', 'rafay', 'aqib'], dtype='<U10')"
            ]
          },
          "execution_count": 20,
          "metadata": {},
          "output_type": "execute_result"
        }
      ],
      "source": [
        "arr[\"name\"]"
      ]
    },
    {
      "cell_type": "code",
      "execution_count": null,
      "metadata": {
        "id": "4D4hJRvM6XR8",
        "outputId": "25e70dfd-ab83-4c1c-d6bd-d0d1ad5826a9"
      },
      "outputs": [
        {
          "name": "stdout",
          "output_type": "stream",
          "text": [
            "[[1 'uzair' 20]\n",
            " [2 'rafay' 22]\n",
            " [3 'aqib' 23]]\n"
          ]
        }
      ],
      "source": [
        "arr= np.array([(1,\"uzair\",20),(2,\"rafay\",22),(3,\"aqib\",23)] , dtype=object)\n",
        "print(arr)"
      ]
    },
    {
      "cell_type": "code",
      "execution_count": null,
      "metadata": {
        "id": "MXNHAErA6XR8",
        "outputId": "055474b2-37be-47b7-d28d-fdd2320bcef0"
      },
      "outputs": [
        {
          "name": "stdout",
          "output_type": "stream",
          "text": [
            "['uzair' 'rafay' 'aqib']\n"
          ]
        }
      ],
      "source": [
        "print(arr[0:3,1])"
      ]
    },
    {
      "cell_type": "code",
      "execution_count": null,
      "metadata": {
        "id": "M29Z5vOR6XR9"
      },
      "outputs": [],
      "source": []
    }
  ],
  "metadata": {
    "kernelspec": {
      "display_name": "Python 3",
      "language": "python",
      "name": "python3"
    },
    "language_info": {
      "codemirror_mode": {
        "name": "ipython",
        "version": 3
      },
      "file_extension": ".py",
      "mimetype": "text/x-python",
      "name": "python",
      "nbconvert_exporter": "python",
      "pygments_lexer": "ipython3",
      "version": "3.12.5"
    },
    "colab": {
      "provenance": [],
      "include_colab_link": true
    }
  },
  "nbformat": 4,
  "nbformat_minor": 0
}